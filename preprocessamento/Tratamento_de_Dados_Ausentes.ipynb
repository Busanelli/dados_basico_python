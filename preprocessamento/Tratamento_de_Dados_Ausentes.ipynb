{
 "cells": [
  {
   "cell_type": "markdown",
   "id": "873c51e1",
   "metadata": {},
   "source": [
    "# 🧼 Tratamento de Dados Ausentes - Base de Imóveis (Housing)\n",
    "\n",
    "## 🎯 Objetivo\n",
    "\n",
    "Este notebook tem como foco aplicar e comparar diferentes estratégias de tratamento de dados ausentes em uma base pública de imóveis da Califórnia.\n",
    "\n",
    "A base possui variáveis numéricas e categóricas, permitindo simular situações reais de análise e preparação de dados para modelos de machine learning.\n"
   ]
  },
  {
   "cell_type": "markdown",
   "id": "89b69e6e",
   "metadata": {},
   "source": [
    "## 📚 Bibliotecas utilizadas"
   ]
  },
  {
   "cell_type": "code",
   "execution_count": 6,
   "id": "da94c377",
   "metadata": {},
   "outputs": [],
   "source": [
    "import pandas as pd\n",
    "import numpy as np\n",
    "import matplotlib.pyplot as plt\n",
    "import seaborn as sns"
   ]
  },
  {
   "cell_type": "markdown",
   "id": "6f3249e0",
   "metadata": {},
   "source": [
    "## Base da ação (carregamento da base)"
   ]
  },
  {
   "cell_type": "code",
   "execution_count": null,
   "id": "581d3299",
   "metadata": {},
   "outputs": [],
   "source": [
    "url = \"https://raw.githubusercontent.com/ageron/handson-ml/master/datasets/housing/housing.csv\"\n",
    "df = pd.read_csv(url)\n",
    "\n",
    "# Visualizar as 5 primeiras linhas\n",
    "df.head()"
   ]
  },
  {
   "cell_type": "markdown",
   "id": "2a718769",
   "metadata": {},
   "source": [
    "## Informações iniciais sobre a base"
   ]
  },
  {
   "cell_type": "code",
   "execution_count": null,
   "id": "8ffdfbd9",
   "metadata": {},
   "outputs": [],
   "source": [
    "# Dimensões da base\n",
    "print(\"Dimensões:\", df.shape)\n",
    "\n",
    "# Informações gerais\n",
    "df.info()\n",
    "\n",
    "# Estatísticas descritivas\n",
    "df.describe()\n"
   ]
  },
  {
   "cell_type": "markdown",
   "id": "b034f1b2",
   "metadata": {},
   "source": [
    "## 🛠️ Estratégias de tratamento de dados ausentes\n",
    "\n",
    "A variável `total_bedrooms` contém valores ausentes. Vamos aplicar três abordagens:\n",
    "\n",
    "1. Remoção das linhas com `NaN`\n",
    "2. Imputação com a média\n",
    "3. Imputação com a mediana\n"
   ]
  },
  {
   "cell_type": "markdown",
   "id": "7f5cc6c8",
   "metadata": {},
   "source": [
    "### Remoção de nulos\n"
   ]
  },
  {
   "cell_type": "code",
   "execution_count": null,
   "id": "c242372a",
   "metadata": {},
   "outputs": [],
   "source": [
    "df_dropna = df.dropna(subset=[\"total_bedrooms\"])\n",
    "print(\"Após remoção:\", df_dropna.shape)"
   ]
  },
  {
   "cell_type": "markdown",
   "id": "c0c9de64",
   "metadata": {},
   "source": [
    "### Imputação com média"
   ]
  },
  {
   "cell_type": "code",
   "execution_count": null,
   "id": "310c8906",
   "metadata": {},
   "outputs": [],
   "source": [
    "df_mean = df.copy()\n",
    "df_mean[\"total_bedrooms\"].fillna(df_mean[\"total_bedrooms\"].mean(), inplace=True)\n"
   ]
  },
  {
   "cell_type": "markdown",
   "id": "72d97ce6",
   "metadata": {},
   "source": [
    "### Imputação com mediana"
   ]
  },
  {
   "cell_type": "code",
   "execution_count": null,
   "id": "d644b0a6",
   "metadata": {},
   "outputs": [],
   "source": [
    "df_median = df.copy()\n",
    "df_median[\"total_bedrooms\"].fillna(df_median[\"total_bedrooms\"].median(), inplace=True)\n"
   ]
  },
  {
   "cell_type": "markdown",
   "id": "1be26756",
   "metadata": {},
   "source": [
    "## Comparações"
   ]
  },
  {
   "cell_type": "code",
   "execution_count": null,
   "id": "36f5c82c",
   "metadata": {},
   "outputs": [],
   "source": [
    "fig, ax = plt.subplots(1, 3, figsize=(18, 5))\n",
    "\n",
    "sns.histplot(df_dropna[\"total_bedrooms\"], kde=True, ax=ax[0])\n",
    "ax[0].set_title(\"Remoção de nulos\")\n",
    "\n",
    "sns.histplot(df_mean[\"total_bedrooms\"], kde=True, ax=ax[1])\n",
    "ax[1].set_title(\"Imputação com média\")\n",
    "\n",
    "sns.histplot(df_median[\"total_bedrooms\"], kde=True, ax=ax[2])\n",
    "ax[2].set_title(\"Imputação com mediana\")\n",
    "\n",
    "plt.tight_layout()\n",
    "plt.show()\n"
   ]
  },
  {
   "cell_type": "markdown",
   "id": "b9175d53",
   "metadata": {},
   "source": [
    "## 📈 Considerações finais\n",
    "\n",
    "- A remoção dos nulos reduziu o número total de observações, podendo prejudicar análises futuras.\n",
    "- A imputação com média ou mediana mantém o tamanho da base, mas insere valores estimados.\n",
    "- A escolha da estratégia depende do contexto e da distribuição dos dados.\n",
    "\n",
    "O ideal é sempre avaliar o impacto da imputação na variável alvo, se houver."
   ]
  }
 ],
 "metadata": {
  "kernelspec": {
   "display_name": "Python (dados)",
   "language": "python",
   "name": "dados-python"
  },
  "language_info": {
   "codemirror_mode": {
    "name": "ipython",
    "version": 3
   },
   "file_extension": ".py",
   "mimetype": "text/x-python",
   "name": "python",
   "nbconvert_exporter": "python",
   "pygments_lexer": "ipython3",
   "version": "3.9.20"
  }
 },
 "nbformat": 4,
 "nbformat_minor": 5
}
