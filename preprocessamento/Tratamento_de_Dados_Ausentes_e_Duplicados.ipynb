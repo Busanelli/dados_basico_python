{
 "cells": [
  {
   "cell_type": "markdown",
   "id": "1e4a5595",
   "metadata": {},
   "source": [
    "# 🐧 Análise de Qualidade dos Dados - Base Penguins\n",
    "\n",
    "> _Neste notebook, exploramos estratégias de tratamento de **valores ausentes** e **registros duplicados** em uma base pública sobre pinguins._"
   ]
  },
  {
   "cell_type": "markdown",
   "id": "cd1da28a",
   "metadata": {},
   "source": [
    "# 🏡 Base Utilizada\n",
    "\n",
    "A base `penguins` contém 344 registros com características físicas de pinguins de três espécies diferentes coletadas em ilhas do arquipélago Palmer, na Antártica. Os atributos disponíveis possibilitam análises morfológicas, de distribuição geográfica e comparações entre grupos.\n"
   ]
  },
  {
   "cell_type": "markdown",
   "id": "2f40eb4e",
   "metadata": {},
   "source": [
    "## 📄 Atributos da base:\n",
    "\n",
    "`species`: espécie do pinguim (Adelie, Chinstrap ou Gentoo)\n",
    "\n",
    "`island`: ilha onde o indivíduo foi observado (Biscoe, Dream ou Torgersen)\n",
    "\n",
    "`bill_length_mm, bill_depth_mm`: comprimento e profundidade do bico (em milímetros)\n",
    "\n",
    "`flipper_length_mm`: comprimento da nadadeira (em milímetros)\n",
    "\n",
    "`body_mass_g`: massa corporal (em gramas)\n",
    "\n",
    "`sex`: sexo do pinguim (male ou female)\n",
    "\n",
    "`year`: ano da observação"
   ]
  },
  {
   "cell_type": "markdown",
   "id": "1131d8a1",
   "metadata": {},
   "source": [
    "## 📚 Bibliotecas Utilizadas\n",
    "- pandas\n",
    "- numpy\n",
    "- matplotlib e seaborn (opcional, para visualização)"
   ]
  },
  {
   "cell_type": "code",
   "execution_count": 14,
   "id": "0d3925c8",
   "metadata": {},
   "outputs": [],
   "source": [
    "import pandas as pd\n",
    "import numpy as np\n",
    "import matplotlib.pyplot as plt\n",
    "import seaborn as sns"
   ]
  },
  {
   "cell_type": "markdown",
   "id": "79d1d675",
   "metadata": {},
   "source": [
    "## Base da ação (carregamento da base)"
   ]
  },
  {
   "cell_type": "code",
   "execution_count": 20,
   "id": "d7726354",
   "metadata": {},
   "outputs": [
    {
     "data": {
      "text/html": [
       "<div>\n",
       "<style scoped>\n",
       "    .dataframe tbody tr th:only-of-type {\n",
       "        vertical-align: middle;\n",
       "    }\n",
       "\n",
       "    .dataframe tbody tr th {\n",
       "        vertical-align: top;\n",
       "    }\n",
       "\n",
       "    .dataframe thead th {\n",
       "        text-align: right;\n",
       "    }\n",
       "</style>\n",
       "<table border=\"1\" class=\"dataframe\">\n",
       "  <thead>\n",
       "    <tr style=\"text-align: right;\">\n",
       "      <th></th>\n",
       "      <th>species</th>\n",
       "      <th>island</th>\n",
       "      <th>bill_length_mm</th>\n",
       "      <th>bill_depth_mm</th>\n",
       "      <th>flipper_length_mm</th>\n",
       "      <th>body_mass_g</th>\n",
       "      <th>sex</th>\n",
       "    </tr>\n",
       "  </thead>\n",
       "  <tbody>\n",
       "    <tr>\n",
       "      <th>0</th>\n",
       "      <td>Adelie</td>\n",
       "      <td>Torgersen</td>\n",
       "      <td>39.1</td>\n",
       "      <td>18.7</td>\n",
       "      <td>181.0</td>\n",
       "      <td>3750.0</td>\n",
       "      <td>MALE</td>\n",
       "    </tr>\n",
       "    <tr>\n",
       "      <th>1</th>\n",
       "      <td>Adelie</td>\n",
       "      <td>Torgersen</td>\n",
       "      <td>39.5</td>\n",
       "      <td>17.4</td>\n",
       "      <td>186.0</td>\n",
       "      <td>3800.0</td>\n",
       "      <td>FEMALE</td>\n",
       "    </tr>\n",
       "    <tr>\n",
       "      <th>2</th>\n",
       "      <td>Adelie</td>\n",
       "      <td>Torgersen</td>\n",
       "      <td>40.3</td>\n",
       "      <td>18.0</td>\n",
       "      <td>195.0</td>\n",
       "      <td>3250.0</td>\n",
       "      <td>FEMALE</td>\n",
       "    </tr>\n",
       "    <tr>\n",
       "      <th>3</th>\n",
       "      <td>Adelie</td>\n",
       "      <td>Torgersen</td>\n",
       "      <td>NaN</td>\n",
       "      <td>NaN</td>\n",
       "      <td>NaN</td>\n",
       "      <td>NaN</td>\n",
       "      <td>NaN</td>\n",
       "    </tr>\n",
       "    <tr>\n",
       "      <th>4</th>\n",
       "      <td>Adelie</td>\n",
       "      <td>Torgersen</td>\n",
       "      <td>36.7</td>\n",
       "      <td>19.3</td>\n",
       "      <td>193.0</td>\n",
       "      <td>3450.0</td>\n",
       "      <td>FEMALE</td>\n",
       "    </tr>\n",
       "  </tbody>\n",
       "</table>\n",
       "</div>"
      ],
      "text/plain": [
       "  species     island  bill_length_mm  bill_depth_mm  flipper_length_mm  \\\n",
       "0  Adelie  Torgersen            39.1           18.7              181.0   \n",
       "1  Adelie  Torgersen            39.5           17.4              186.0   \n",
       "2  Adelie  Torgersen            40.3           18.0              195.0   \n",
       "3  Adelie  Torgersen             NaN            NaN                NaN   \n",
       "4  Adelie  Torgersen            36.7           19.3              193.0   \n",
       "\n",
       "   body_mass_g     sex  \n",
       "0       3750.0    MALE  \n",
       "1       3800.0  FEMALE  \n",
       "2       3250.0  FEMALE  \n",
       "3          NaN     NaN  \n",
       "4       3450.0  FEMALE  "
      ]
     },
     "execution_count": 20,
     "metadata": {},
     "output_type": "execute_result"
    }
   ],
   "source": [
    "# Carregar a base penguins diretamente do GitHub\n",
    "url = \"https://raw.githubusercontent.com/mwaskom/seaborn-data/master/penguins.csv\"\n",
    "df = pd.read_csv(url)\n",
    "\n",
    "# Visualizar as 5 primeiras linhas\n",
    "df.head()\n"
   ]
  },
  {
   "cell_type": "markdown",
   "id": "c53be789",
   "metadata": {},
   "source": [
    "## Informações iniciais sobre a base"
   ]
  },
  {
   "cell_type": "code",
   "execution_count": 21,
   "id": "9f238570",
   "metadata": {},
   "outputs": [
    {
     "name": "stdout",
     "output_type": "stream",
     "text": [
      "Dimensões: (344, 7)\n",
      "<class 'pandas.core.frame.DataFrame'>\n",
      "RangeIndex: 344 entries, 0 to 343\n",
      "Data columns (total 7 columns):\n",
      " #   Column             Non-Null Count  Dtype  \n",
      "---  ------             --------------  -----  \n",
      " 0   species            344 non-null    object \n",
      " 1   island             344 non-null    object \n",
      " 2   bill_length_mm     342 non-null    float64\n",
      " 3   bill_depth_mm      342 non-null    float64\n",
      " 4   flipper_length_mm  342 non-null    float64\n",
      " 5   body_mass_g        342 non-null    float64\n",
      " 6   sex                333 non-null    object \n",
      "dtypes: float64(4), object(3)\n",
      "memory usage: 18.9+ KB\n"
     ]
    },
    {
     "data": {
      "text/html": [
       "<div>\n",
       "<style scoped>\n",
       "    .dataframe tbody tr th:only-of-type {\n",
       "        vertical-align: middle;\n",
       "    }\n",
       "\n",
       "    .dataframe tbody tr th {\n",
       "        vertical-align: top;\n",
       "    }\n",
       "\n",
       "    .dataframe thead th {\n",
       "        text-align: right;\n",
       "    }\n",
       "</style>\n",
       "<table border=\"1\" class=\"dataframe\">\n",
       "  <thead>\n",
       "    <tr style=\"text-align: right;\">\n",
       "      <th></th>\n",
       "      <th>bill_length_mm</th>\n",
       "      <th>bill_depth_mm</th>\n",
       "      <th>flipper_length_mm</th>\n",
       "      <th>body_mass_g</th>\n",
       "    </tr>\n",
       "  </thead>\n",
       "  <tbody>\n",
       "    <tr>\n",
       "      <th>count</th>\n",
       "      <td>342.000000</td>\n",
       "      <td>342.000000</td>\n",
       "      <td>342.000000</td>\n",
       "      <td>342.000000</td>\n",
       "    </tr>\n",
       "    <tr>\n",
       "      <th>mean</th>\n",
       "      <td>43.921930</td>\n",
       "      <td>17.151170</td>\n",
       "      <td>200.915205</td>\n",
       "      <td>4201.754386</td>\n",
       "    </tr>\n",
       "    <tr>\n",
       "      <th>std</th>\n",
       "      <td>5.459584</td>\n",
       "      <td>1.974793</td>\n",
       "      <td>14.061714</td>\n",
       "      <td>801.954536</td>\n",
       "    </tr>\n",
       "    <tr>\n",
       "      <th>min</th>\n",
       "      <td>32.100000</td>\n",
       "      <td>13.100000</td>\n",
       "      <td>172.000000</td>\n",
       "      <td>2700.000000</td>\n",
       "    </tr>\n",
       "    <tr>\n",
       "      <th>25%</th>\n",
       "      <td>39.225000</td>\n",
       "      <td>15.600000</td>\n",
       "      <td>190.000000</td>\n",
       "      <td>3550.000000</td>\n",
       "    </tr>\n",
       "    <tr>\n",
       "      <th>50%</th>\n",
       "      <td>44.450000</td>\n",
       "      <td>17.300000</td>\n",
       "      <td>197.000000</td>\n",
       "      <td>4050.000000</td>\n",
       "    </tr>\n",
       "    <tr>\n",
       "      <th>75%</th>\n",
       "      <td>48.500000</td>\n",
       "      <td>18.700000</td>\n",
       "      <td>213.000000</td>\n",
       "      <td>4750.000000</td>\n",
       "    </tr>\n",
       "    <tr>\n",
       "      <th>max</th>\n",
       "      <td>59.600000</td>\n",
       "      <td>21.500000</td>\n",
       "      <td>231.000000</td>\n",
       "      <td>6300.000000</td>\n",
       "    </tr>\n",
       "  </tbody>\n",
       "</table>\n",
       "</div>"
      ],
      "text/plain": [
       "       bill_length_mm  bill_depth_mm  flipper_length_mm  body_mass_g\n",
       "count      342.000000     342.000000         342.000000   342.000000\n",
       "mean        43.921930      17.151170         200.915205  4201.754386\n",
       "std          5.459584       1.974793          14.061714   801.954536\n",
       "min         32.100000      13.100000         172.000000  2700.000000\n",
       "25%         39.225000      15.600000         190.000000  3550.000000\n",
       "50%         44.450000      17.300000         197.000000  4050.000000\n",
       "75%         48.500000      18.700000         213.000000  4750.000000\n",
       "max         59.600000      21.500000         231.000000  6300.000000"
      ]
     },
     "execution_count": 21,
     "metadata": {},
     "output_type": "execute_result"
    }
   ],
   "source": [
    "# Dimensões da base\n",
    "print(\"Dimensões:\", df.shape)\n",
    "\n",
    "# Informações gerais\n",
    "df.info()\n",
    "\n",
    "# Estatísticas descritivas\n",
    "df.describe()"
   ]
  },
  {
   "cell_type": "markdown",
   "id": "39c11b61",
   "metadata": {},
   "source": [
    "# 📌 Objetivo\n",
    "Aplicar e comparar diferentes estratégias de tratamento de dados ausentes e duplicados."
   ]
  },
  {
   "cell_type": "markdown",
   "id": "325e70ab",
   "metadata": {},
   "source": [
    "# 🧼 Tratamento de Dados Ausentes \n",
    "\n",
    "Detectar e tratar dados ausentes "
   ]
  },
  {
   "cell_type": "markdown",
   "id": "1b020da7",
   "metadata": {},
   "source": [
    "## 🛠️ Estratégias de tratamento de dados ausentes"
   ]
  },
  {
   "cell_type": "markdown",
   "id": "4b86a856",
   "metadata": {},
   "source": [
    "Verificar se há dados ausentes."
   ]
  },
  {
   "cell_type": "code",
   "execution_count": 24,
   "id": "b17f909c",
   "metadata": {},
   "outputs": [
    {
     "data": {
      "text/plain": [
       "bill_length_mm        2\n",
       "bill_depth_mm         2\n",
       "flipper_length_mm     2\n",
       "body_mass_g           2\n",
       "sex                  11\n",
       "dtype: int64"
      ]
     },
     "execution_count": 24,
     "metadata": {},
     "output_type": "execute_result"
    }
   ],
   "source": [
    "# Exibe apenas colunas com dados ausentes\n",
    "df.isnull().sum()[df.isnull().sum() > 0]"
   ]
  },
  {
   "cell_type": "markdown",
   "id": "a8a6df9b",
   "metadata": {},
   "source": [
    "Foi possivel observar que as variáveis `bill_length_mm`, `bill_depth_mm`,`flipper_length_mm`, `body_mass_g` e `sex` contêm valores ausentes. \n",
    "Aplicaremos três abordagens para tratá-los:\n",
    "1. Remoção das linhas com `NaN`\n",
    "2. Imputação com a média\n",
    "3. Imputação com a mediana\n"
   ]
  },
  {
   "cell_type": "markdown",
   "id": "f18461aa",
   "metadata": {},
   "source": [
    "Abordagem 1 : Remoção de linhas com valores ausentes\n",
    " - Casos em que quando a quantidade de dados ausentes é pequena e sua remoção não compromete a representatividade da base.\n"
   ]
  },
  {
   "cell_type": "code",
   "execution_count": 28,
   "id": "7b6ceccd",
   "metadata": {},
   "outputs": [
    {
     "data": {
      "text/plain": [
       "(333, 7)"
      ]
     },
     "execution_count": 28,
     "metadata": {},
     "output_type": "execute_result"
    }
   ],
   "source": [
    "df_dropna = df.dropna()\n",
    "df_dropna.shape"
   ]
  },
  {
   "cell_type": "markdown",
   "id": "af08b277",
   "metadata": {},
   "source": [
    "Abordagem 2: Imputação com a média\n",
    "- Recomendado para variáveis numéricas simétricas ou com poucos outliers. Substitui os NaNs pela média da coluna.\n"
   ]
  },
  {
   "cell_type": "code",
   "execution_count": null,
   "id": "d4b4749a",
   "metadata": {},
   "outputs": [],
   "source": [
    "df_mean = df.copy()\n",
    "num_cols = ['bill_length_mm', 'bill_depth_mm', 'flipper_length_mm', 'body_mass_g']\n",
    "for col in num_cols:\n",
    "    df_mean[col] = df_mean[col].fillna(df_mean[col].mean())"
   ]
  },
  {
   "cell_type": "markdown",
   "id": "8084b10d",
   "metadata": {},
   "source": [
    "Abordagem 3: Imputação com a mediana\n",
    "- Recomendado para variáveis numéricas com distribuição assimétrica ou presença de outliers.\n"
   ]
  },
  {
   "cell_type": "code",
   "execution_count": 30,
   "id": "debb94c4",
   "metadata": {},
   "outputs": [],
   "source": [
    "df_median = df.copy()\n",
    "for col in num_cols:\n",
    "    df_median[col] = df_median[col].fillna(df_median[col].median())"
   ]
  },
  {
   "cell_type": "markdown",
   "id": "da30a0f8",
   "metadata": {},
   "source": [
    " Abordagem: Variável categórica - Imputação com a moda "
   ]
  },
  {
   "cell_type": "code",
   "execution_count": 32,
   "id": "50f2f128",
   "metadata": {},
   "outputs": [],
   "source": [
    "df_moda = df.copy()\n",
    "moda_sex = df_moda[\"sex\"].mode()[0]\n",
    "df_moda[\"sex\"] = df_moda[\"sex\"].fillna(moda_sex)"
   ]
  },
  {
   "cell_type": "markdown",
   "id": "40d975fe",
   "metadata": {},
   "source": [
    "## Comparações"
   ]
  },
  {
   "cell_type": "code",
   "execution_count": 34,
   "id": "36f5c82c",
   "metadata": {},
   "outputs": [
    {
     "data": {
      "image/png": "[encoded data removed]",
      "text/plain": [
       "<Figure size 1000x500 with 1 Axes>"
      ]
     },
     "metadata": {},
     "output_type": "display_data"
    }
   ],
   "source": [
    "import matplotlib.pyplot as plt\n",
    "import seaborn as sns\n",
    "\n",
    "plt.figure(figsize=(10, 5))\n",
    "sns.kdeplot(df[\"body_mass_g\"], label=\"Original (com NaN)\", linestyle=\"--\")\n",
    "sns.kdeplot(df_mean[\"body_mass_g\"], label=\"Imputação com média\")\n",
    "sns.kdeplot(df_median[\"body_mass_g\"], label=\"Imputação com mediana\")\n",
    "plt.title(\"Distribuição de body_mass_g - Comparação de Estratégias\")\n",
    "plt.legend()\n",
    "plt.show()"
   ]
  },
  {
   "cell_type": "markdown",
   "id": "3b3db003",
   "metadata": {},
   "source": [
    "A análise da densidade revela que, embora semelhantes, as distribuições da variável `body_mass_g` apresentam leves diferenças conforme a estratégia de imputação utilizada (média ou mediana), evidenciando o impacto que a escolha do método pode ter na análise."
   ]
  },
  {
   "cell_type": "code",
   "execution_count": 35,
   "id": "f1902dd7",
   "metadata": {},
   "outputs": [
    {
     "data": {
      "image/png": "[encoded data removed]",
      "text/plain": [
       "<Figure size 1200x400 with 2 Axes>"
      ]
     },
     "metadata": {},
     "output_type": "display_data"
    }
   ],
   "source": [
    "fig, axes = plt.subplots(1, 2, figsize=(12, 4))\n",
    "\n",
    "df[\"sex\"].value_counts(dropna=False).plot(kind=\"bar\", ax=axes[0], title=\"Original\")\n",
    "df_moda[\"sex\"].value_counts().plot(kind=\"bar\", ax=axes[1], title=\"Com Moda\")\n",
    "\n",
    "axes[0].set_ylabel(\"Frequência\")\n",
    "plt.suptitle(\"Distribuição da variável categórica 'sex'\")\n",
    "plt.tight_layout()\n",
    "plt.show()\n"
   ]
  },
  {
   "cell_type": "markdown",
   "id": "831a55bf",
   "metadata": {},
   "source": [
    "## 📈 Considerações finais\n",
    "\n",
    "A remoção dos nulos reduziu o número total de observações, podendo prejudicar análises futuras — especialmente em bases pequenas ou desbalanceadas.\n",
    "\n",
    "A imputação com **média** ou **mediana** preserva o tamanho da base, mas insere valores estimados que podem afetar a distribuição original das variáveis.\n",
    "\n",
    "A escolha da estratégia depende do **contexto analítico**, da **quantidade de valores ausentes** e da **importância da variável** no modelo ou nas decisões que se pretende tomar.\n",
    "\n",
    "O ideal é sempre **avaliar o impacto da imputação na variável-alvo**, quando aplicável, especialmente em tarefas supervisionadas.\n",
    "\n",
    "💡**Nota técnica**: embora a média seja amplamente usada, a mediana é geralmente preferida em ambientes profissionais por ser menos sensível a outliers e preservar melhor a distribuição central dos dados."
   ]
  },
  {
   "cell_type": "markdown",
   "id": "a8f05650",
   "metadata": {},
   "source": [
    "# 🧼 Tratamento de Dados Duplicados "
   ]
  },
  {
   "cell_type": "markdown",
   "id": "d15ed8db",
   "metadata": {},
   "source": [
    "Detectar e tratar registros duplicados "
   ]
  },
  {
   "cell_type": "markdown",
   "id": "51ca1122",
   "metadata": {},
   "source": [
    "## 🔍 Verificação de Duplicatas"
   ]
  },
  {
   "cell_type": "markdown",
   "id": "fab8dcad",
   "metadata": {},
   "source": [
    "✅ Checagem de Duplicatas Completas"
   ]
  },
  {
   "cell_type": "code",
   "execution_count": 36,
   "id": "f82d3af5",
   "metadata": {},
   "outputs": [
    {
     "name": "stdout",
     "output_type": "stream",
     "text": [
      "Total de duplicatas completas: 0\n"
     ]
    },
    {
     "data": {
      "text/html": [
       "<div>\n",
       "<style scoped>\n",
       "    .dataframe tbody tr th:only-of-type {\n",
       "        vertical-align: middle;\n",
       "    }\n",
       "\n",
       "    .dataframe tbody tr th {\n",
       "        vertical-align: top;\n",
       "    }\n",
       "\n",
       "    .dataframe thead th {\n",
       "        text-align: right;\n",
       "    }\n",
       "</style>\n",
       "<table border=\"1\" class=\"dataframe\">\n",
       "  <thead>\n",
       "    <tr style=\"text-align: right;\">\n",
       "      <th></th>\n",
       "      <th>species</th>\n",
       "      <th>island</th>\n",
       "      <th>bill_length_mm</th>\n",
       "      <th>bill_depth_mm</th>\n",
       "      <th>flipper_length_mm</th>\n",
       "      <th>body_mass_g</th>\n",
       "      <th>sex</th>\n",
       "    </tr>\n",
       "  </thead>\n",
       "  <tbody>\n",
       "  </tbody>\n",
       "</table>\n",
       "</div>"
      ],
      "text/plain": [
       "Empty DataFrame\n",
       "Columns: [species, island, bill_length_mm, bill_depth_mm, flipper_length_mm, body_mass_g, sex]\n",
       "Index: []"
      ]
     },
     "execution_count": 36,
     "metadata": {},
     "output_type": "execute_result"
    }
   ],
   "source": [
    "# Número de duplicatas completas\n",
    "duplicatas = df.duplicated()\n",
    "print(f\"Total de duplicatas completas: {duplicatas.sum()}\")\n",
    "\n",
    "# Visualização (caso existam)\n",
    "df[duplicatas].head()\n"
   ]
  },
  {
   "cell_type": "markdown",
   "id": "e4dda424",
   "metadata": {},
   "source": [
    "Caso houvesse existência de registros duplicados, nenhum deles é **necessariamente inválido**. Como não há um identificador único por indivíduo (como ID ou timestamp), registros idênticos podem representar diferentes observações reais com atributos coincidentes."
   ]
  },
  {
   "cell_type": "markdown",
   "id": "a45a48ad",
   "metadata": {},
   "source": [
    "🧩 Duplicatas Parciais (Subconjuntos de Colunas)\n",
    "É possível que existam registros duplicados em algumas colunas, mas com diferenças em outras. Vamos analisar, por exemplo, duplicatas com base em `species`, `island`, `sex`."
   ]
  },
  {
   "cell_type": "code",
   "execution_count": 37,
   "id": "38d4f486",
   "metadata": {},
   "outputs": [
    {
     "name": "stdout",
     "output_type": "stream",
     "text": [
      "Duplicatas parciais em 'species', 'island' e 'sex': 331\n"
     ]
    }
   ],
   "source": [
    "# Verificando duplicatas em colunas específicas\n",
    "duplicatas_parciais = df.duplicated(subset=[\"species\", \"island\", \"sex\"])\n",
    "print(f\"Duplicatas parciais em 'species', 'island' e 'sex': {duplicatas_parciais.sum()}\")\n"
   ]
  },
  {
   "cell_type": "markdown",
   "id": "631b561f",
   "metadata": {},
   "source": [
    "Essas duplicações **não indicam erro**, pois indivíduos da mesma espécie e ilha podem compartilhar sexo e demais características registradas."
   ]
  },
  {
   "cell_type": "markdown",
   "id": "2c1334d5",
   "metadata": {},
   "source": [
    "- Nenhuma duplicata será removida nesta etapa.\n",
    "\n",
    "- A simples presença de duplicatas não implica problema de qualidade.\n",
    "\n",
    "- A decisão de remoção ou agregação exige contexto adicional (como rastreamento individual, fonte da base ou objetivo analítico específico)."
   ]
  },
  {
   "cell_type": "markdown",
   "id": "577d1ab5",
   "metadata": {},
   "source": [
    "## 🧽 Estratégias de Tratamento\n",
    "- Remoção direta com `drop_duplicates()`\n",
    "- Retenção condicional de registros (`keep='first'`, `keep='last'`)\n"
   ]
  },
  {
   "cell_type": "markdown",
   "id": "f8a5058d",
   "metadata": {},
   "source": [
    "Apenas para mostrar como lidar com as duplicatas elas vão ser incluidas artificialmente e serão utilizadas as seguintes técnicas."
   ]
  },
  {
   "cell_type": "code",
   "execution_count": 49,
   "id": "5025681a",
   "metadata": {},
   "outputs": [
    {
     "name": "stdout",
     "output_type": "stream",
     "text": [
      "Total de duplicatas adicionadas: 10\n",
      "\n",
      "Exemplos de duplicatas:\n"
     ]
    },
    {
     "data": {
      "text/html": [
       "<div>\n",
       "<style scoped>\n",
       "    .dataframe tbody tr th:only-of-type {\n",
       "        vertical-align: middle;\n",
       "    }\n",
       "\n",
       "    .dataframe tbody tr th {\n",
       "        vertical-align: top;\n",
       "    }\n",
       "\n",
       "    .dataframe thead th {\n",
       "        text-align: right;\n",
       "    }\n",
       "</style>\n",
       "<table border=\"1\" class=\"dataframe\">\n",
       "  <thead>\n",
       "    <tr style=\"text-align: right;\">\n",
       "      <th></th>\n",
       "      <th>species</th>\n",
       "      <th>island</th>\n",
       "      <th>bill_length_mm</th>\n",
       "      <th>bill_depth_mm</th>\n",
       "      <th>flipper_length_mm</th>\n",
       "      <th>body_mass_g</th>\n",
       "      <th>sex</th>\n",
       "    </tr>\n",
       "  </thead>\n",
       "  <tbody>\n",
       "    <tr>\n",
       "      <th>344</th>\n",
       "      <td>Adelie</td>\n",
       "      <td>Dream</td>\n",
       "      <td>39.5</td>\n",
       "      <td>16.7</td>\n",
       "      <td>178.0</td>\n",
       "      <td>3250.0</td>\n",
       "      <td>FEMALE</td>\n",
       "    </tr>\n",
       "    <tr>\n",
       "      <th>345</th>\n",
       "      <td>Gentoo</td>\n",
       "      <td>Biscoe</td>\n",
       "      <td>46.9</td>\n",
       "      <td>14.6</td>\n",
       "      <td>222.0</td>\n",
       "      <td>4875.0</td>\n",
       "      <td>FEMALE</td>\n",
       "    </tr>\n",
       "    <tr>\n",
       "      <th>346</th>\n",
       "      <td>Adelie</td>\n",
       "      <td>Torgersen</td>\n",
       "      <td>42.1</td>\n",
       "      <td>19.1</td>\n",
       "      <td>195.0</td>\n",
       "      <td>4000.0</td>\n",
       "      <td>MALE</td>\n",
       "    </tr>\n",
       "    <tr>\n",
       "      <th>347</th>\n",
       "      <td>Chinstrap</td>\n",
       "      <td>Dream</td>\n",
       "      <td>49.8</td>\n",
       "      <td>17.3</td>\n",
       "      <td>198.0</td>\n",
       "      <td>3675.0</td>\n",
       "      <td>FEMALE</td>\n",
       "    </tr>\n",
       "    <tr>\n",
       "      <th>348</th>\n",
       "      <td>Adelie</td>\n",
       "      <td>Biscoe</td>\n",
       "      <td>41.1</td>\n",
       "      <td>18.2</td>\n",
       "      <td>192.0</td>\n",
       "      <td>4050.0</td>\n",
       "      <td>MALE</td>\n",
       "    </tr>\n",
       "  </tbody>\n",
       "</table>\n",
       "</div>"
      ],
      "text/plain": [
       "       species     island  bill_length_mm  bill_depth_mm  flipper_length_mm  \\\n",
       "344     Adelie      Dream            39.5           16.7              178.0   \n",
       "345     Gentoo     Biscoe            46.9           14.6              222.0   \n",
       "346     Adelie  Torgersen            42.1           19.1              195.0   \n",
       "347  Chinstrap      Dream            49.8           17.3              198.0   \n",
       "348     Adelie     Biscoe            41.1           18.2              192.0   \n",
       "\n",
       "     body_mass_g     sex  \n",
       "344       3250.0  FEMALE  \n",
       "345       4875.0  FEMALE  \n",
       "346       4000.0    MALE  \n",
       "347       3675.0  FEMALE  \n",
       "348       4050.0    MALE  "
      ]
     },
     "metadata": {},
     "output_type": "display_data"
    }
   ],
   "source": [
    "# Criar duplicatas artificiais (com garantia de registros completos)\n",
    "df_sem_nulos = df.dropna()\n",
    "duplicatas_artificiais = df_sem_nulos.sample(10, random_state=42)\n",
    "df_dup = pd.concat([df, duplicatas_artificiais], ignore_index=True)\n",
    "\n",
    "# Verificar total de duplicatas completas\n",
    "duplicatas = df_dup.duplicated()\n",
    "total_duplicatas = duplicatas.sum()\n",
    "print(f\"Total de duplicatas adicionadas: {total_duplicatas}\")\n",
    "\n",
    "# Exibir algumas duplicatas\n",
    "print(\"\\nExemplos de duplicatas:\")\n",
    "display(df_dup[duplicatas].head())"
   ]
  },
  {
   "cell_type": "markdown",
   "id": "defd21a5",
   "metadata": {},
   "source": [
    "* Remoção direta com `drop_duplicates()`\n",
    "\n",
    "Descarta todos os registros duplicados."
   ]
  },
  {
   "cell_type": "code",
   "execution_count": 57,
   "id": "4a0acccd",
   "metadata": {},
   "outputs": [],
   "source": [
    "## Remoção direta\n",
    "df_sem_dups = df_dup.drop_duplicates(keep=False)"
   ]
  },
  {
   "cell_type": "markdown",
   "id": "bcf29840",
   "metadata": {},
   "source": [
    "- Retenção condicional de registros (`keep='first'`, `keep='last'`)\n",
    "\n",
    "A retenção com keep='first' ou 'last' permite preservar informações mais relevantes conforme o contexto."
   ]
  },
  {
   "cell_type": "code",
   "execution_count": 51,
   "id": "4ec99542",
   "metadata": {},
   "outputs": [],
   "source": [
    "# Mantém a primeira ocorrência\n",
    "df_keep_first = df_dup.drop_duplicates(keep='first')\n",
    "# Mantém a última ocorrência\n",
    "df_keep_last = df_dup.drop_duplicates(keep='last')"
   ]
  },
  {
   "cell_type": "code",
   "execution_count": 58,
   "id": "3540b28f",
   "metadata": {},
   "outputs": [
    {
     "name": "stdout",
     "output_type": "stream",
     "text": [
      "\n",
      "📊 Comparação após remoção completa (padrão):\n",
      "- Antes: 354 linhas\n",
      "- Após: 334 linhas\n",
      "- Removidas: 20\n",
      "- Duplicatas restantes: 0\n",
      "\n",
      "📊 Comparação com keep='first':\n",
      "- Após: 344 linhas\n",
      "- Removidas: 10\n",
      "- Duplicatas restantes: 0\n",
      "\n",
      "📊 Comparação com keep='last':\n",
      "- Após: 344 linhas\n",
      "- Removidas: 10\n",
      "- Duplicatas restantes: 0\n"
     ]
    }
   ],
   "source": [
    "# Comparar tamanhos e verificar duplicatas após cada estratégia\n",
    "\n",
    "print(\"\\n📊 Comparação após remoção completa (padrão):\")\n",
    "print(f\"- Antes: {df_dup.shape[0]} linhas\")\n",
    "print(f\"- Após: {df_sem_dups.shape[0]} linhas\")\n",
    "print(f\"- Removidas: {df_dup.shape[0] - df_sem_dups.shape[0]}\")\n",
    "print(f\"- Duplicatas restantes: {df_sem_dups.duplicated().sum()}\")\n",
    "\n",
    "print(\"\\n📊 Comparação com keep='first':\")\n",
    "print(f\"- Após: {df_keep_first.shape[0]} linhas\")\n",
    "print(f\"- Removidas: {df_dup.shape[0] - df_keep_first.shape[0]}\")\n",
    "print(f\"- Duplicatas restantes: {df_keep_first.duplicated().sum()}\")\n",
    "\n",
    "print(\"\\n📊 Comparação com keep='last':\")\n",
    "print(f\"- Após: {df_keep_last.shape[0]} linhas\")\n",
    "print(f\"- Removidas: {df_dup.shape[0] - df_keep_last.shape[0]}\")\n",
    "print(f\"- Duplicatas restantes: {df_keep_last.duplicated().sum()}\")\n"
   ]
  },
  {
   "cell_type": "markdown",
   "id": "68f3722f",
   "metadata": {},
   "source": [
    "## ✅ Conclusão\n",
    "\n",
    "- Na base `penguins`, adicionamos duplicatas artificiais.\n",
    "- A remoção direta com `drop_duplicates()` e as abordagens condicionais com `keep='first'` e `keep='last'` resultaram no mesmo número final de linhas, pois cada registro duplicado aparecia apenas **duas vezes**.\n",
    "- Nesse contexto, manter a primeira ou a última ocorrência não faz diferença prática — ambas removem uma das duas cópias.\n",
    "- A diferença entre `keep='first'` e `keep='last'` só se torna relevante quando há **três ou mais cópias do mesmo registro**.\n",
    "- Vale destacar que o padrão do método `drop_duplicates()` é `keep='first'`. Para remover **todas** as ocorrências duplicadas, inclusive a primeira, é necessário usar `keep=False`.\n",
    "\n",
    "> 💡 A escolha entre manter ou remover registros duplicados deve considerar o objetivo da análise e a relevância de cada linha de dados.\n"
   ]
  }
 ],
 "metadata": {
  "kernelspec": {
   "display_name": "Python (dados)",
   "language": "python",
   "name": "dados-python"
  },
  "language_info": {
   "codemirror_mode": {
    "name": "ipython",
    "version": 3
   },
   "file_extension": ".py",
   "mimetype": "text/x-python",
   "name": "python",
   "nbconvert_exporter": "python",
   "pygments_lexer": "ipython3",
   "version": "3.9.20"
  }
 },
 "nbformat": 4,
 "nbformat_minor": 5
}
